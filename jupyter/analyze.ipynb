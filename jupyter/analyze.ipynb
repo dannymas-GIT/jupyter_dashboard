{
 "cells": [
  {
   "cell_type": "code",
   "execution_count": null,
   "metadata": {},
   "outputs": [],
   "source": [
    "import pandas as pd\n",
    "import matplotlib.pyplot as plt\n",
    "\n",
    "try:\n",
    "    # Load the CSV file\n",
    "    df = pd.read_csv('MOCK_DATA.csv', delimiter=',', quotechar='\"')\n",
    "except pd.errors.EmptyDataError:\n",
    "    print(\"Error: The CSV file is empty.\")\n",
    "    exit(1)\n",
    "\n",
    "# Display the first few rows of the DataFrame\n",
    "print(df.head())\n",
    "\n",
    "# Basic summary statistics\n",
    "print(df.describe())\n",
    "\n",
    "# Check for missing values\n",
    "print(df.isnull().sum())\n",
    "\n",
    "# Example: Filter data for a specific job title\n",
    "job_title = 'Web Designer II'\n",
    "filtered_df = df[df['Job Title'].str.strip() == job_title]\n",
    "print(filtered_df)\n",
    "\n",
    "# Example: Group by year and count occurrences\n",
    "yearly_counts = df.groupby('Year').size()\n",
    "print(yearly_counts)\n",
    "\n",
    "# Plot the yearly counts\n",
    "yearly_counts.plot(kind='bar')\n",
    "plt.xlabel('Year')\n",
    "plt.ylabel('Count')\n",
    "plt.title('Yearly Job Counts')\n",
    "plt.show()\n"
   ]
  },
  {
   "cell_type": "markdown",
   "metadata": {},
   "source": []
  }
 ],
 "metadata": {
  "kernelspec": {
   "display_name": "Python 3",
   "language": "python",
   "name": "python3"
  },
  "language_info": {
   "codemirror_mode": {
    "name": "ipython",
    "version": 3
   },
   "file_extension": ".py",
   "mimetype": "text/x-python",
   "name": "python",
   "nbconvert_exporter": "python",
   "pygments_lexer": "ipython3",
   "version": "3.10.11"
  }
 },
 "nbformat": 4,
 "nbformat_minor": 2
}
